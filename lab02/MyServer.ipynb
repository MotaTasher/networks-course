{
 "cells": [
  {
   "cell_type": "code",
   "execution_count": 2,
   "id": "ec291475",
   "metadata": {},
   "outputs": [],
   "source": [
    "import json\n",
    "import requests\n",
    "from http.server import BaseHTTPRequestHandler, HTTPServer\n"
   ]
  },
  {
   "cell_type": "code",
   "execution_count": 5,
   "id": "1ac26b88",
   "metadata": {},
   "outputs": [],
   "source": [
    "\n",
    "class S(BaseHTTPRequestHandler):\n",
    "    def _set_response(self):\n",
    "        self.send_response(200)\n",
    "        self.send_header('Content-type', 'text/html')\n",
    "        self.end_headers()\n",
    "\n",
    "    def do_GET(self):\n",
    "#         logging.info(\"GET request,\\nPath: %s\\nHeaders:\\n%s\\n\", str(self.path), str(self.headers))\n",
    "        self._set_response()\n",
    "        self.wfile.write(\"GET request for {}\".format(self.path).encode('utf-8'))\n",
    "\n",
    "    def do_POST(self):\n",
    "        content_length = int(self.headers['Content-Length']) # <--- Gets the size of data\n",
    "        post_data = self.rfile.read(content_length) # <--- Gets the data itself\n",
    "#         logging.info(\"POST request,\\nPath: %s\\nHeaders:\\n%s\\n\\nBody:\\n%s\\n\",\n",
    "#                 str(self.path), str(self.headers), post_data.decode('utf-8'))\n",
    "\n",
    "        self._set_response()\n",
    "        self.wfile.write(\"POST request for {}\".format(self.path).encode('utf-8'))\n",
    "\n",
    "def run(server_class=HTTPServer, handler_class=S, port=8080):\n",
    "#     logging.basicConfig(level=logging.INFO)\n",
    "    server_address = ('', port)\n",
    "    httpd = server_class(server_address, handler_class)\n",
    "#     logging.info('Starting httpd...\\n')\n",
    "    try:\n",
    "        httpd.serve_forever()\n",
    "    except KeyboardInterrupt:\n",
    "        pass\n",
    "    httpd.server_close()\n",
    "#     logging.info('Stopping httpd...\\n')"
   ]
  },
  {
   "cell_type": "code",
   "execution_count": 7,
   "id": "1d84a863",
   "metadata": {},
   "outputs": [],
   "source": [
    "# run(port=int(127))"
   ]
  },
  {
   "cell_type": "code",
   "execution_count": 10,
   "id": "a96e2706",
   "metadata": {},
   "outputs": [
    {
     "name": "stdout",
     "output_type": "stream",
     "text": [
      " * Serving Flask app 'main'\n",
      " * Debug mode: on\n"
     ]
    },
    {
     "name": "stderr",
     "output_type": "stream",
     "text": [
      "WARNING: This is a development server. Do not use it in a production deployment. Use a production WSGI server instead.\n",
      " * Running on http://127.0.0.1:5000\n",
      "Press CTRL+C to quit\n",
      " * Restarting with stat\n",
      "Traceback (most recent call last):\n",
      "  File \"/usr/lib/python3.10/runpy.py\", line 196, in _run_module_as_main\n",
      "    return _run_code(code, main_globals, None,\n",
      "  File \"/usr/lib/python3.10/runpy.py\", line 86, in _run_code\n",
      "    exec(code, run_globals)\n",
      "  File \"/home/matvei/.local/lib/python3.10/site-packages/ipykernel_launcher.py\", line 17, in <module>\n",
      "    app.launch_new_instance()\n",
      "  File \"/home/matvei/.local/lib/python3.10/site-packages/traitlets/config/application.py\", line 1042, in launch_instance\n",
      "    app.initialize(argv)\n",
      "  File \"/home/matvei/.local/lib/python3.10/site-packages/traitlets/config/application.py\", line 113, in inner\n",
      "    return method(app, *args, **kwargs)\n",
      "  File \"/home/matvei/.local/lib/python3.10/site-packages/ipykernel/kernelapp.py\", line 678, in initialize\n",
      "    self.init_sockets()\n",
      "  File \"/home/matvei/.local/lib/python3.10/site-packages/ipykernel/kernelapp.py\", line 317, in init_sockets\n",
      "    self.shell_port = self._bind_socket(self.shell_socket, self.shell_port)\n",
      "  File \"/home/matvei/.local/lib/python3.10/site-packages/ipykernel/kernelapp.py\", line 252, in _bind_socket\n",
      "    return self._try_bind_socket(s, port)\n",
      "  File \"/home/matvei/.local/lib/python3.10/site-packages/ipykernel/kernelapp.py\", line 228, in _try_bind_socket\n",
      "    s.bind(\"tcp://%s:%i\" % (self.ip, port))\n",
      "  File \"/home/matvei/.local/lib/python3.10/site-packages/zmq/sugar/socket.py\", line 300, in bind\n",
      "    super().bind(addr)\n",
      "  File \"zmq/backend/cython/socket.pyx\", line 564, in zmq.backend.cython.socket.Socket.bind\n",
      "  File \"zmq/backend/cython/checkrc.pxd\", line 28, in zmq.backend.cython.checkrc._check_rc\n",
      "zmq.error.ZMQError: Address already in use\n"
     ]
    },
    {
     "ename": "SystemExit",
     "evalue": "1",
     "output_type": "error",
     "traceback": [
      "An exception has occurred, use %tb to see the full traceback.\n",
      "\u001b[0;31mSystemExit\u001b[0m\u001b[0;31m:\u001b[0m 1\n"
     ]
    }
   ],
   "source": [
    "import json\n",
    "from flask import Flask, request, jsonify\n",
    "\n",
    "from pathlib import Path\n",
    "\n",
    "app = Flask('main')\n",
    "\n",
    "@app.route('/')\n",
    "def index():\n",
    "    return \"Hello, World!\"\n",
    "\n",
    "@app.route('/fileData', methods=['POST'])\n",
    "def find_data():\n",
    "    data = json.loads(request.data)\n",
    "    print(f\"name form request: {data['name']}\")\n",
    "    return jsonify(data)\n",
    "\n",
    "# if __name__ == '__main__':\n",
    "app.run(debug=True)\n"
   ]
  },
  {
   "cell_type": "code",
   "execution_count": null,
   "id": "a59532f7",
   "metadata": {},
   "outputs": [],
   "source": []
  }
 ],
 "metadata": {
  "kernelspec": {
   "display_name": "Python 3 (ipykernel)",
   "language": "python",
   "name": "python3"
  },
  "language_info": {
   "codemirror_mode": {
    "name": "ipython",
    "version": 3
   },
   "file_extension": ".py",
   "mimetype": "text/x-python",
   "name": "python",
   "nbconvert_exporter": "python",
   "pygments_lexer": "ipython3",
   "version": "3.10.12"
  }
 },
 "nbformat": 4,
 "nbformat_minor": 5
}
